{
 "cells": [
  {
   "cell_type": "code",
   "execution_count": 9,
   "id": "808866bd",
   "metadata": {},
   "outputs": [],
   "source": [
    "import pandas as pd\n",
    "import numpy as np\n",
    "from sklearn.linear_model import LinearRegression"
   ]
  },
  {
   "cell_type": "code",
   "execution_count": 5,
   "id": "7a451d04",
   "metadata": {},
   "outputs": [],
   "source": [
    "kelp_data = pd.read_csv(\"round1db/prices_round_1_day_-2.csv\",sep=\";\",header =0)"
   ]
  },
  {
   "cell_type": "code",
   "execution_count": 7,
   "id": "867cd067",
   "metadata": {},
   "outputs": [
    {
     "data": {
      "text/plain": [
       "0        10000.0\n",
       "1         2000.0\n",
       "2         2000.0\n",
       "3         2000.0\n",
       "4        10002.5\n",
       "          ...   \n",
       "29995     9997.0\n",
       "29996     2027.0\n",
       "29997    10000.0\n",
       "29998     2028.0\n",
       "29999     2004.0\n",
       "Name: mid_price, Length: 30000, dtype: float64"
      ]
     },
     "execution_count": 7,
     "metadata": {},
     "output_type": "execute_result"
    }
   ],
   "source": [
    "#kelp_data\n",
    "prices = kelp_data['mid_price']\n",
    "prices"
   ]
  },
  {
   "cell_type": "code",
   "execution_count": 11,
   "id": "4f52248c",
   "metadata": {},
   "outputs": [
    {
     "name": "stdout",
     "output_type": "stream",
     "text": [
      "Estimated reversion_beta: -0.5001\n"
     ]
    }
   ],
   "source": [
    "returns = prices.pct_change().dropna()\n",
    "\n",
    "# Step 2: Create lagged returns\n",
    "X = returns.shift(1).dropna().values.reshape(-1, 1)  # r_{t-1}\n",
    "y = returns.iloc[1:].values  # r_t\n",
    "\n",
    "# Step 3: Linear regression\n",
    "reg = LinearRegression().fit(X, y)\n",
    "reversion_beta = reg.coef_[0]\n",
    "\n",
    "print(f\"Estimated reversion_beta: {reversion_beta:.4f}\")"
   ]
  }
 ],
 "metadata": {
  "kernelspec": {
   "display_name": "Python 3",
   "language": "python",
   "name": "python3"
  },
  "language_info": {
   "codemirror_mode": {
    "name": "ipython",
    "version": 3
   },
   "file_extension": ".py",
   "mimetype": "text/x-python",
   "name": "python",
   "nbconvert_exporter": "python",
   "pygments_lexer": "ipython3",
   "version": "3.11.1"
  }
 },
 "nbformat": 4,
 "nbformat_minor": 5
}
